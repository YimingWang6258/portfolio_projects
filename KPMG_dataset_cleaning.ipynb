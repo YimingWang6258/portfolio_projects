{
 "cells": [
  {
   "cell_type": "code",
   "execution_count": 28,
   "id": "9b9e07a4",
   "metadata": {},
   "outputs": [],
   "source": [
    "import pandas as pd\n",
    "import numpy as np\n",
    "import matplotlib.pyplot as plt\n",
    "import datetime as dt\n",
    "import seaborn as sns\n",
    "import math"
   ]
  },
  {
   "cell_type": "code",
   "execution_count": 29,
   "id": "3381fece",
   "metadata": {},
   "outputs": [
    {
     "name": "stdout",
     "output_type": "stream",
     "text": [
      "['Transactions', 'NewCustomerList', 'CustomerDemographic', 'CustomerAddress']\n"
     ]
    }
   ],
   "source": [
    "sheets_names = pd.ExcelFile('/Users/wangyiming/Desktop/KPMG/KPMG.xlsx').sheet_names\n",
    "print(sheets_names)"
   ]
  },
  {
   "cell_type": "code",
   "execution_count": 30,
   "id": "a05c9080",
   "metadata": {
    "scrolled": true
   },
   "outputs": [
    {
     "name": "stdout",
     "output_type": "stream",
     "text": [
      "                         address  postcode            state    country  \\\n",
      "customer_id                                                              \n",
      "1             060 Morning Avenue      2016  New South Wales  Australia   \n",
      "2            6 Meadow Vale Court      2153  New South Wales  Australia   \n",
      "4             0 Holy Cross Court      4211              QLD  Australia   \n",
      "5            17979 Del Mar Point      2448  New South Wales  Australia   \n",
      "6               9 Oakridge Court      3216              VIC  Australia   \n",
      "\n",
      "             property_valuation  \n",
      "customer_id                      \n",
      "1                            10  \n",
      "2                            10  \n",
      "4                             9  \n",
      "5                             4  \n",
      "6                             9  \n"
     ]
    }
   ],
   "source": [
    "CusAddr_df = pd.read_excel('/Users/wangyiming/Desktop/KPMG/KPMG.xlsx', sheet_name='CustomerAddress', header=1, index_col='customer_id')\n",
    "print(CusAddr_df.head())"
   ]
  },
  {
   "cell_type": "code",
   "execution_count": 31,
   "id": "71e1ad54",
   "metadata": {},
   "outputs": [],
   "source": [
    "CusAddr_df['state'].replace('New South Wales', 'NSW', inplace=True)"
   ]
  },
  {
   "cell_type": "code",
   "execution_count": 32,
   "id": "8ba8c27b",
   "metadata": {},
   "outputs": [],
   "source": [
    "CusAddr_df['state'].replace('Victoria', 'VIC', inplace=True)"
   ]
  },
  {
   "cell_type": "code",
   "execution_count": 33,
   "id": "382d7244",
   "metadata": {},
   "outputs": [
    {
     "name": "stdout",
     "output_type": "stream",
     "text": [
      "                         address  postcode state    country  \\\n",
      "customer_id                                                   \n",
      "1             060 Morning Avenue      2016   NSW  Australia   \n",
      "2            6 Meadow Vale Court      2153   NSW  Australia   \n",
      "4             0 Holy Cross Court      4211   QLD  Australia   \n",
      "5            17979 Del Mar Point      2448   NSW  Australia   \n",
      "6               9 Oakridge Court      3216   VIC  Australia   \n",
      "\n",
      "             property_valuation  \n",
      "customer_id                      \n",
      "1                            10  \n",
      "2                            10  \n",
      "4                             9  \n",
      "5                             4  \n",
      "6                             9  \n"
     ]
    }
   ],
   "source": [
    "print(CusAddr_df.head())"
   ]
  },
  {
   "cell_type": "code",
   "execution_count": 34,
   "id": "b78e080d",
   "metadata": {},
   "outputs": [
    {
     "data": {
      "text/plain": [
       "address               0\n",
       "postcode              0\n",
       "state                 0\n",
       "country               0\n",
       "property_valuation    0\n",
       "dtype: int64"
      ]
     },
     "execution_count": 34,
     "metadata": {},
     "output_type": "execute_result"
    }
   ],
   "source": [
    "CusAddr_df.isna().sum()"
   ]
  },
  {
   "cell_type": "code",
   "execution_count": 35,
   "id": "0baaf74c",
   "metadata": {},
   "outputs": [
    {
     "name": "stdout",
     "output_type": "stream",
     "text": [
      "                 first_name  last_name  gender  \\\n",
      "customer_id                                      \n",
      "1                   Laraine  Medendorp       F   \n",
      "2                       Eli    Bockman    Male   \n",
      "3                     Arlin     Dearle    Male   \n",
      "4                    Talbot        NaN    Male   \n",
      "5            Sheila-kathryn     Calton  Female   \n",
      "\n",
      "             past_3_years_bike_related_purchases        DOB  \\\n",
      "customer_id                                                   \n",
      "1                                             93 1953-10-12   \n",
      "2                                             81 1980-12-16   \n",
      "3                                             61 1954-01-20   \n",
      "4                                             33 1961-10-03   \n",
      "5                                             56 1977-05-13   \n",
      "\n",
      "                          job_title job_industry_category     wealth_segment  \\\n",
      "customer_id                                                                    \n",
      "1               Executive Secretary                Health      Mass Customer   \n",
      "2            Administrative Officer    Financial Services      Mass Customer   \n",
      "3                Recruiting Manager              Property      Mass Customer   \n",
      "4                               NaN                    IT      Mass Customer   \n",
      "5                     Senior Editor                   NaN  Affluent Customer   \n",
      "\n",
      "            deceased_indicator  \\\n",
      "customer_id                      \n",
      "1                            N   \n",
      "2                            N   \n",
      "3                            N   \n",
      "4                            N   \n",
      "5                            N   \n",
      "\n",
      "                                                       default owns_car  \\\n",
      "customer_id                                                               \n",
      "1                                                           \"'      Yes   \n",
      "2                                 <script>alert('hi')</script>      Yes   \n",
      "3                                          2018-02-01 00:00:00      Yes   \n",
      "4            () { _; } >_[$($())] { touch /tmp/blns.shellsh...       No   \n",
      "5                                                          NIL      Yes   \n",
      "\n",
      "             tenure  \n",
      "customer_id          \n",
      "1              11.0  \n",
      "2              16.0  \n",
      "3              15.0  \n",
      "4               7.0  \n",
      "5               8.0  \n"
     ]
    },
    {
     "name": "stderr",
     "output_type": "stream",
     "text": [
      "/var/folders/pj/wyg72s1n3wx2c7zdv2phkn1m0000gn/T/ipykernel_1797/4178728755.py:1: FutureWarning: Inferring datetime64[ns] from data containing strings is deprecated and will be removed in a future version. To retain the old behavior explicitly pass Series(data, dtype=datetime64[ns])\n",
      "  CusDemo_df = pd.read_excel('/Users/wangyiming/Desktop/KPMG/KPMG.xlsx', sheet_name='CustomerDemographic', header=1, index_col='customer_id')\n"
     ]
    }
   ],
   "source": [
    "CusDemo_df = pd.read_excel('/Users/wangyiming/Desktop/KPMG/KPMG.xlsx', sheet_name='CustomerDemographic', header=1, index_col='customer_id')\n",
    "print(CusDemo_df.head())"
   ]
  },
  {
   "cell_type": "code",
   "execution_count": 36,
   "id": "c41dfa7d",
   "metadata": {
    "scrolled": true
   },
   "outputs": [],
   "source": [
    "CusDemo_df = CusDemo_df.drop('default', axis='columns')"
   ]
  },
  {
   "cell_type": "code",
   "execution_count": 59,
   "id": "62153192",
   "metadata": {
    "scrolled": true
   },
   "outputs": [
    {
     "name": "stdout",
     "output_type": "stream",
     "text": [
      "                 first_name  last_name  gender  \\\n",
      "customer_id                                      \n",
      "1                   Laraine  Medendorp  Female   \n",
      "2                       Eli    Bockman    Male   \n",
      "3                     Arlin     Dearle    Male   \n",
      "4                    Talbot    NoValue    Male   \n",
      "5            Sheila-kathryn     Calton  Female   \n",
      "\n",
      "             past_3_years_bike_related_purchases        DOB  \\\n",
      "customer_id                                                   \n",
      "1                                             93 1953-10-12   \n",
      "2                                             81 1980-12-16   \n",
      "3                                             61 1954-01-20   \n",
      "4                                             33 1961-10-03   \n",
      "5                                             56 1977-05-13   \n",
      "\n",
      "                          job_title job_industry_category     wealth_segment  \\\n",
      "customer_id                                                                    \n",
      "1               Executive Secretary                Health      Mass Customer   \n",
      "2            Administrative Officer    Financial Services      Mass Customer   \n",
      "3                Recruiting Manager              Property      Mass Customer   \n",
      "4                           NoValue                    IT      Mass Customer   \n",
      "5                     Senior Editor               NoValue  Affluent Customer   \n",
      "\n",
      "            deceased_indicator owns_car  tenure        age  age_class  \n",
      "customer_id                                                            \n",
      "1                           No      Yes    11.0  68.852097         70  \n",
      "2                           No      Yes    16.0  41.672894         40  \n",
      "3                           No      Yes    15.0  68.578306         70  \n",
      "4                           No       No     7.0  60.876574         60  \n",
      "5                           No      Yes     8.0  45.267766         50  \n"
     ]
    }
   ],
   "source": [
    "print(CusDemo_df.head())"
   ]
  },
  {
   "cell_type": "code",
   "execution_count": 38,
   "id": "46f5705a",
   "metadata": {},
   "outputs": [],
   "source": [
    "CusDemo_df['gender'].replace(['F', 'Femal'], 'Female', inplace=True)"
   ]
  },
  {
   "cell_type": "code",
   "execution_count": 39,
   "id": "2b4de01d",
   "metadata": {},
   "outputs": [],
   "source": [
    "CusDemo_df['gender'].replace('M', 'Male', inplace=True)"
   ]
  },
  {
   "cell_type": "code",
   "execution_count": 40,
   "id": "658dde76",
   "metadata": {},
   "outputs": [],
   "source": [
    "CusDemo_df['gender'].replace('U', 'Unknown', inplace=True)"
   ]
  },
  {
   "cell_type": "code",
   "execution_count": 41,
   "id": "72639768",
   "metadata": {},
   "outputs": [],
   "source": [
    "CusDemo_df['deceased_indicator'].replace('N', 'No', inplace=True)\n",
    "CusDemo_df['deceased_indicator'].replace('Y', 'Yes', inplace=True)"
   ]
  },
  {
   "cell_type": "code",
   "execution_count": 42,
   "id": "1c3cd723",
   "metadata": {},
   "outputs": [],
   "source": [
    "CusDemo_df = CusDemo_df[CusDemo_df['DOB'] != CusDemo_df.DOB.min()] #1843-12-21 is an incorrect date"
   ]
  },
  {
   "cell_type": "code",
   "execution_count": 43,
   "id": "437c6ceb",
   "metadata": {},
   "outputs": [
    {
     "data": {
      "text/plain": [
       "Timestamp('1931-10-23 00:00:00')"
      ]
     },
     "execution_count": 43,
     "metadata": {},
     "output_type": "execute_result"
    }
   ],
   "source": [
    "CusDemo_df.DOB.min()"
   ]
  },
  {
   "cell_type": "code",
   "execution_count": 44,
   "id": "3a6b4ec2",
   "metadata": {
    "scrolled": false
   },
   "outputs": [
    {
     "data": {
      "text/plain": [
       "first_name                               0\n",
       "last_name                              125\n",
       "gender                                   0\n",
       "past_3_years_bike_related_purchases      0\n",
       "DOB                                     87\n",
       "job_title                              506\n",
       "job_industry_category                  656\n",
       "wealth_segment                           0\n",
       "deceased_indicator                       0\n",
       "owns_car                                 0\n",
       "tenure                                  87\n",
       "dtype: int64"
      ]
     },
     "execution_count": 44,
     "metadata": {},
     "output_type": "execute_result"
    }
   ],
   "source": [
    "CusDemo_df.isna().sum()"
   ]
  },
  {
   "cell_type": "code",
   "execution_count": 45,
   "id": "ee842949",
   "metadata": {},
   "outputs": [],
   "source": [
    "CusDemo_df[\"last_name\"].fillna(\"NoValue\", inplace = True)"
   ]
  },
  {
   "cell_type": "code",
   "execution_count": 46,
   "id": "9a1bf244",
   "metadata": {
    "scrolled": true
   },
   "outputs": [],
   "source": [
    "CusDemo_df['job_title'].fillna(\"NoValue\", inplace = True)"
   ]
  },
  {
   "cell_type": "code",
   "execution_count": 47,
   "id": "7a5814ee",
   "metadata": {},
   "outputs": [],
   "source": [
    "CusDemo_df['job_industry_category'].fillna(\"NoValue\", inplace = True)"
   ]
  },
  {
   "cell_type": "code",
   "execution_count": 48,
   "id": "0ead7959",
   "metadata": {
    "scrolled": true
   },
   "outputs": [],
   "source": [
    "CusDemo_df=CusDemo_df.dropna()"
   ]
  },
  {
   "cell_type": "code",
   "execution_count": 49,
   "id": "228df8e1",
   "metadata": {},
   "outputs": [],
   "source": [
    "CusDemo_df['age'] = (dt.datetime.now() - CusDemo_df['DOB']) / np.timedelta64(1, 'Y')"
   ]
  },
  {
   "cell_type": "code",
   "execution_count": 58,
   "id": "00978e36",
   "metadata": {
    "scrolled": true
   },
   "outputs": [],
   "source": [
    "CusDemo_df['age_class'] = ((round(CusDemo_df['age'] / 10)) * 10).astype(int)"
   ]
  },
  {
   "cell_type": "code",
   "execution_count": 84,
   "id": "e074a399",
   "metadata": {
    "scrolled": true
   },
   "outputs": [
    {
     "name": "stdout",
     "output_type": "stream",
     "text": [
      "             transaction_id  product_id transaction_date  online_order  \\\n",
      "customer_id                                                              \n",
      "2950                      1           2       2017-02-25           0.0   \n",
      "3120                      2           3       2017-05-21           1.0   \n",
      "402                       3          37       2017-10-16           0.0   \n",
      "3135                      4          88       2017-08-31           0.0   \n",
      "787                       5          78       2017-10-01           1.0   \n",
      "\n",
      "            order_status           brand product_line product_class  \\\n",
      "customer_id                                                           \n",
      "2950            Approved           Solex     Standard        medium   \n",
      "3120            Approved   Trek Bicycles     Standard        medium   \n",
      "402             Approved      OHM Cycles     Standard           low   \n",
      "3135            Approved  Norco Bicycles     Standard        medium   \n",
      "787             Approved  Giant Bicycles     Standard        medium   \n",
      "\n",
      "            product_size  list_price  standard_cost  product_first_sold_date  \n",
      "customer_id                                                                   \n",
      "2950              medium       71.49          53.62                  41245.0  \n",
      "3120               large     2091.47         388.92                  41701.0  \n",
      "402               medium     1793.43         248.82                  36361.0  \n",
      "3135              medium     1198.46         381.10                  36145.0  \n",
      "787                large     1765.30         709.48                  42226.0  \n"
     ]
    }
   ],
   "source": [
    "Trans_df = pd.read_excel('/Users/wangyiming/Desktop/KPMG/KPMG.xlsx', sheet_name='Transactions', header=1, index_col='customer_id')\n",
    "print(Trans_df.head())"
   ]
  },
  {
   "cell_type": "code",
   "execution_count": 85,
   "id": "6511d032",
   "metadata": {
    "scrolled": true
   },
   "outputs": [
    {
     "data": {
      "text/plain": [
       "transaction_id               0\n",
       "product_id                   0\n",
       "transaction_date             0\n",
       "online_order               360\n",
       "order_status                 0\n",
       "brand                      197\n",
       "product_line               197\n",
       "product_class              197\n",
       "product_size               197\n",
       "list_price                   0\n",
       "standard_cost              197\n",
       "product_first_sold_date    197\n",
       "dtype: int64"
      ]
     },
     "execution_count": 85,
     "metadata": {},
     "output_type": "execute_result"
    }
   ],
   "source": [
    "Trans_df.isna().sum()"
   ]
  },
  {
   "cell_type": "code",
   "execution_count": 86,
   "id": "28d49bbd",
   "metadata": {},
   "outputs": [],
   "source": [
    "Trans_df = Trans_df.dropna()"
   ]
  },
  {
   "cell_type": "code",
   "execution_count": 87,
   "id": "788c63ca",
   "metadata": {
    "scrolled": true
   },
   "outputs": [
    {
     "data": {
      "text/plain": [
       "0"
      ]
     },
     "execution_count": 87,
     "metadata": {},
     "output_type": "execute_result"
    }
   ],
   "source": [
    "Trans_df.duplicated().sum()"
   ]
  },
  {
   "cell_type": "code",
   "execution_count": 88,
   "id": "367c1e34",
   "metadata": {},
   "outputs": [
    {
     "data": {
      "text/plain": [
       "(19445, 12)"
      ]
     },
     "execution_count": 88,
     "metadata": {},
     "output_type": "execute_result"
    }
   ],
   "source": [
    "Trans_df.shape"
   ]
  },
  {
   "cell_type": "code",
   "execution_count": 89,
   "id": "7e065978",
   "metadata": {},
   "outputs": [],
   "source": [
    "Trans_df['product_first_sold_date'] = pd.TimedeltaIndex(Trans_df['product_first_sold_date'], unit='d') + dt.datetime(1900,1,1)"
   ]
  },
  {
   "cell_type": "code",
   "execution_count": 92,
   "id": "67575842",
   "metadata": {
    "scrolled": false
   },
   "outputs": [
    {
     "name": "stdout",
     "output_type": "stream",
     "text": [
      "             transaction_id  product_id transaction_date  online_order  \\\n",
      "customer_id                                                              \n",
      "2950                      1           2       2017-02-25           0.0   \n",
      "3120                      2           3       2017-05-21           1.0   \n",
      "402                       3          37       2017-10-16           0.0   \n",
      "3135                      4          88       2017-08-31           0.0   \n",
      "787                       5          78       2017-10-01           1.0   \n",
      "\n",
      "            order_status           brand product_line product_class  \\\n",
      "customer_id                                                           \n",
      "2950            Approved           Solex     Standard        medium   \n",
      "3120            Approved   Trek Bicycles     Standard        medium   \n",
      "402             Approved      OHM Cycles     Standard           low   \n",
      "3135            Approved  Norco Bicycles     Standard        medium   \n",
      "787             Approved  Giant Bicycles     Standard        medium   \n",
      "\n",
      "            product_size  list_price  standard_cost product_first_sold_date  \\\n",
      "customer_id                                                                   \n",
      "2950              medium       71.49          53.62              2012-12-04   \n",
      "3120               large     2091.47         388.92              2014-03-05   \n",
      "402               medium     1793.43         248.82              1999-07-22   \n",
      "3135              medium     1198.46         381.10              1998-12-18   \n",
      "787                large     1765.30         709.48              2015-08-12   \n",
      "\n",
      "              profit  \n",
      "customer_id           \n",
      "2950           17.87  \n",
      "3120         1702.55  \n",
      "402          1544.61  \n",
      "3135          817.36  \n",
      "787          1055.82  \n"
     ]
    }
   ],
   "source": [
    "print(Trans_df.head())"
   ]
  },
  {
   "cell_type": "code",
   "execution_count": 91,
   "id": "6b43118d",
   "metadata": {},
   "outputs": [],
   "source": [
    "Trans_df['profit'] = Trans_df['list_price'] - Trans_df['standard_cost']"
   ]
  }
 ],
 "metadata": {
  "kernelspec": {
   "display_name": "Python 3 (ipykernel)",
   "language": "python",
   "name": "python3"
  },
  "language_info": {
   "codemirror_mode": {
    "name": "ipython",
    "version": 3
   },
   "file_extension": ".py",
   "mimetype": "text/x-python",
   "name": "python",
   "nbconvert_exporter": "python",
   "pygments_lexer": "ipython3",
   "version": "3.9.12"
  }
 },
 "nbformat": 4,
 "nbformat_minor": 5
}

{
 "cells": [
  {
   "cell_type": "code",
   "execution_count": 1,
   "id": "534f2b6a",
   "metadata": {},
   "outputs": [],
   "source": [
    "import numpy as np\n",
    "import pandas as pd\n",
    "import matplotlib.pyplot as plt"
   ]
  },
  {
   "cell_type": "code",
   "execution_count": 2,
   "id": "d997ce5e",
   "metadata": {},
   "outputs": [],
   "source": [
    "df = pd.read_csv('/example/path/NYPD.csv')"
   ]
  },
  {
   "cell_type": "code",
   "execution_count": 3,
   "id": "443cb29f",
   "metadata": {
    "scrolled": true
   },
   "outputs": [
    {
     "data": {
      "text/plain": [
       "<bound method NDFrame.head of        CMPLNT_NUM  ADDR_PCT_CD        BORO_NM CMPLNT_FR_DT CMPLNT_FR_TM  \\\n",
       "0       238496477         10.0      MANHATTAN   01/01/2022      2:55:00   \n",
       "1       241159861         70.0       BROOKLYN   01/01/2022     10:27:00   \n",
       "2       238539279          1.0      MANHATTAN   01/01/2022      3:50:00   \n",
       "3       238548450        123.0  STATEN ISLAND   01/01/2022     13:30:00   \n",
       "4       238526904         84.0       BROOKLYN   01/01/2022     23:05:00   \n",
       "...           ...          ...            ...          ...          ...   \n",
       "256981  247399171         40.0          BRONX   06/30/2022     23:40:00   \n",
       "256982  247564683         18.0      MANHATTAN   06/30/2022     10:24:00   \n",
       "256983  247361615         18.0      MANHATTAN   06/30/2022      1:10:00   \n",
       "256984  247552039         41.0          BRONX   06/30/2022      1:55:00   \n",
       "256985  247394269        120.0  STATEN ISLAND   06/30/2022     16:30:00   \n",
       "\n",
       "       CMPLNT_TO_DT CMPLNT_TO_TM CRM_ATPT_CPTD_CD HADEVELOPT  HOUSING_PSA  \\\n",
       "0        01/01/2022      3:10:00        COMPLETED     (null)          NaN   \n",
       "1        01/01/2022     10:32:00        COMPLETED     (null)          NaN   \n",
       "2        01/01/2022      3:55:00        COMPLETED     (null)          NaN   \n",
       "3        01/01/2022     14:30:00        COMPLETED     (null)          NaN   \n",
       "4        01/01/2022     23:10:00        COMPLETED     (null)          NaN   \n",
       "...             ...          ...              ...        ...          ...   \n",
       "256981   06/30/2022     23:55:00        COMPLETED     (null)          NaN   \n",
       "256982          NaN       (null)        COMPLETED     (null)          NaN   \n",
       "256983   06/30/2022      1:20:00        COMPLETED     (null)          NaN   \n",
       "256984   06/30/2022      2:01:00        COMPLETED     (null)          NaN   \n",
       "256985   06/30/2022     16:48:00        COMPLETED     (null)          NaN   \n",
       "\n",
       "        ...  TRANSIT_DISTRICT VIC_AGE_GROUP                  VIC_RACE VIC_SEX  \\\n",
       "0       ...               NaN         25-44            WHITE HISPANIC       M   \n",
       "1       ...               NaN         25-44                     BLACK       F   \n",
       "2       ...               NaN         45-64                     WHITE       M   \n",
       "3       ...               NaN         25-44            BLACK HISPANIC       F   \n",
       "4       ...               NaN         25-44  ASIAN / PACIFIC ISLANDER       M   \n",
       "...     ...               ...           ...                       ...     ...   \n",
       "256981  ...               NaN         18-24            WHITE HISPANIC       M   \n",
       "256982  ...               NaN         45-64                     WHITE       D   \n",
       "256983  ...               NaN         25-44  ASIAN / PACIFIC ISLANDER       F   \n",
       "256984  ...               NaN         45-64                     BLACK       F   \n",
       "256985  ...               NaN       UNKNOWN                   UNKNOWN       E   \n",
       "\n",
       "       X_COORD_CD Y_COORD_CD   Latitude  Longitude  \\\n",
       "0          984685     209908  40.742827 -73.998428   \n",
       "1          994524     175697  40.648921 -73.962975   \n",
       "2          983316     202389  40.722189 -74.003369   \n",
       "3          932290     136346  40.540762 -74.186943   \n",
       "4          987295     190704  40.690115 -73.989019   \n",
       "...           ...        ...        ...        ...   \n",
       "256981    1004893     232927  40.805983 -73.925433   \n",
       "256982     988842     217034  40.762386 -73.983422   \n",
       "256983     988953     218015  40.765076 -73.983019   \n",
       "256984    1011144     236472  40.815698 -73.902837   \n",
       "256985     948733     170819  40.635466 -74.127964   \n",
       "\n",
       "                            Lat_Lon          New Georeferenced Column  \n",
       "0           (40.742827, -73.998428)      POINT (-73.998428 40.742827)  \n",
       "1           (40.648921, -73.962975)      POINT (-73.962975 40.648921)  \n",
       "2           (40.722189, -74.003369)      POINT (-74.003369 40.722189)  \n",
       "3           (40.540762, -74.186943)      POINT (-74.186943 40.540762)  \n",
       "4           (40.690115, -73.989019)      POINT (-73.989019 40.690115)  \n",
       "...                             ...                               ...  \n",
       "256981  (40.80598253, -73.92543346)  POINT (-73.92543346 40.80598253)  \n",
       "256982      (40.762386, -73.983422)      POINT (-73.983422 40.762386)  \n",
       "256983      (40.765076, -73.983019)      POINT (-73.983019 40.765076)  \n",
       "256984      (40.815698, -73.902837)      POINT (-73.902837 40.815698)  \n",
       "256985      (40.635466, -74.127964)      POINT (-74.127964 40.635466)  \n",
       "\n",
       "[256986 rows x 36 columns]>"
      ]
     },
     "execution_count": 3,
     "metadata": {},
     "output_type": "execute_result"
    }
   ],
   "source": [
    "df.head"
   ]
  },
  {
   "cell_type": "code",
   "execution_count": 4,
   "id": "89cf85aa",
   "metadata": {},
   "outputs": [],
   "source": [
    "df.columns = df.columns.str.lower().str.replace(' ', '_')"
   ]
  },
  {
   "cell_type": "code",
   "execution_count": 5,
   "id": "07cc43b6",
   "metadata": {},
   "outputs": [
    {
     "name": "stdout",
     "output_type": "stream",
     "text": [
      "Index(['cmplnt_num', 'addr_pct_cd', 'boro_nm', 'cmplnt_fr_dt', 'cmplnt_fr_tm',\n",
      "       'cmplnt_to_dt', 'cmplnt_to_tm', 'crm_atpt_cptd_cd', 'hadevelopt',\n",
      "       'housing_psa', 'jurisdiction_code', 'juris_desc', 'ky_cd', 'law_cat_cd',\n",
      "       'loc_of_occur_desc', 'ofns_desc', 'parks_nm', 'patrol_boro', 'pd_cd',\n",
      "       'pd_desc', 'prem_typ_desc', 'rpt_dt', 'station_name', 'susp_age_group',\n",
      "       'susp_race', 'susp_sex', 'transit_district', 'vic_age_group',\n",
      "       'vic_race', 'vic_sex', 'x_coord_cd', 'y_coord_cd', 'latitude',\n",
      "       'longitude', 'lat_lon', 'new_georeferenced_column'],\n",
      "      dtype='object')\n"
     ]
    }
   ],
   "source": [
    "print(df.columns)"
   ]
  },
  {
   "cell_type": "code",
   "execution_count": 6,
   "id": "159fd057",
   "metadata": {
    "scrolled": true
   },
   "outputs": [
    {
     "data": {
      "text/plain": [
       "cmplnt_num                       0\n",
       "addr_pct_cd                      3\n",
       "boro_nm                          0\n",
       "cmplnt_fr_dt                     0\n",
       "cmplnt_fr_tm                     0\n",
       "cmplnt_to_dt                 19589\n",
       "cmplnt_to_tm                     0\n",
       "crm_atpt_cptd_cd                 0\n",
       "hadevelopt                       0\n",
       "housing_psa                 240027\n",
       "jurisdiction_code                0\n",
       "juris_desc                       0\n",
       "ky_cd                            0\n",
       "law_cat_cd                       0\n",
       "loc_of_occur_desc                0\n",
       "ofns_desc                        0\n",
       "parks_nm                         0\n",
       "patrol_boro                      0\n",
       "pd_cd                          293\n",
       "pd_desc                          0\n",
       "prem_typ_desc                    0\n",
       "rpt_dt                           0\n",
       "station_name                     0\n",
       "susp_age_group                   0\n",
       "susp_race                        0\n",
       "susp_sex                         0\n",
       "transit_district            251278\n",
       "vic_age_group                    0\n",
       "vic_race                         0\n",
       "vic_sex                          0\n",
       "x_coord_cd                       0\n",
       "y_coord_cd                       0\n",
       "latitude                         0\n",
       "longitude                        0\n",
       "lat_lon                          0\n",
       "new_georeferenced_column         0\n",
       "dtype: int64"
      ]
     },
     "execution_count": 6,
     "metadata": {},
     "output_type": "execute_result"
    }
   ],
   "source": [
    "df.isnull().sum()"
   ]
  },
  {
   "cell_type": "code",
   "execution_count": 7,
   "id": "d9c17ba3",
   "metadata": {},
   "outputs": [],
   "source": [
    "df = df.replace('(null)', np.nan)"
   ]
  },
  {
   "cell_type": "code",
   "execution_count": 8,
   "id": "3fa10abd",
   "metadata": {
    "scrolled": true
   },
   "outputs": [
    {
     "data": {
      "text/plain": [
       "cmplnt_num                       0\n",
       "addr_pct_cd                      3\n",
       "boro_nm                        471\n",
       "cmplnt_fr_dt                     0\n",
       "cmplnt_fr_tm                     0\n",
       "cmplnt_to_dt                 19589\n",
       "cmplnt_to_tm                 19535\n",
       "crm_atpt_cptd_cd                 0\n",
       "hadevelopt                  256175\n",
       "housing_psa                 240027\n",
       "jurisdiction_code                0\n",
       "juris_desc                       0\n",
       "ky_cd                            0\n",
       "law_cat_cd                       0\n",
       "loc_of_occur_desc            41355\n",
       "ofns_desc                        4\n",
       "parks_nm                    255512\n",
       "patrol_boro                      2\n",
       "pd_cd                          293\n",
       "pd_desc                        293\n",
       "prem_typ_desc                  147\n",
       "rpt_dt                           0\n",
       "station_name                251278\n",
       "susp_age_group               50189\n",
       "susp_race                    50189\n",
       "susp_sex                     50189\n",
       "transit_district            251278\n",
       "vic_age_group                    0\n",
       "vic_race                        71\n",
       "vic_sex                          0\n",
       "x_coord_cd                       0\n",
       "y_coord_cd                       0\n",
       "latitude                         0\n",
       "longitude                        0\n",
       "lat_lon                          0\n",
       "new_georeferenced_column         0\n",
       "dtype: int64"
      ]
     },
     "execution_count": 8,
     "metadata": {},
     "output_type": "execute_result"
    }
   ],
   "source": [
    "df.isnull().sum()"
   ]
  },
  {
   "cell_type": "code",
   "execution_count": 9,
   "id": "5c86fbb5",
   "metadata": {
    "scrolled": true
   },
   "outputs": [
    {
     "data": {
      "text/plain": [
       "<bound method NDFrame.head of        cmplnt_num  addr_pct_cd        boro_nm cmplnt_fr_dt cmplnt_fr_tm  \\\n",
       "0       238496477         10.0      MANHATTAN   01/01/2022      2:55:00   \n",
       "1       241159861         70.0       BROOKLYN   01/01/2022     10:27:00   \n",
       "2       238539279          1.0      MANHATTAN   01/01/2022      3:50:00   \n",
       "3       238548450        123.0  STATEN ISLAND   01/01/2022     13:30:00   \n",
       "4       238526904         84.0       BROOKLYN   01/01/2022     23:05:00   \n",
       "...           ...          ...            ...          ...          ...   \n",
       "256981  247399171         40.0          BRONX   06/30/2022     23:40:00   \n",
       "256982  247564683         18.0      MANHATTAN   06/30/2022     10:24:00   \n",
       "256983  247361615         18.0      MANHATTAN   06/30/2022      1:10:00   \n",
       "256984  247552039         41.0          BRONX   06/30/2022      1:55:00   \n",
       "256985  247394269        120.0  STATEN ISLAND   06/30/2022     16:30:00   \n",
       "\n",
       "       cmplnt_to_dt cmplnt_to_tm crm_atpt_cptd_cd hadevelopt  housing_psa  \\\n",
       "0        01/01/2022      3:10:00        COMPLETED        NaN          NaN   \n",
       "1        01/01/2022     10:32:00        COMPLETED        NaN          NaN   \n",
       "2        01/01/2022      3:55:00        COMPLETED        NaN          NaN   \n",
       "3        01/01/2022     14:30:00        COMPLETED        NaN          NaN   \n",
       "4        01/01/2022     23:10:00        COMPLETED        NaN          NaN   \n",
       "...             ...          ...              ...        ...          ...   \n",
       "256981   06/30/2022     23:55:00        COMPLETED        NaN          NaN   \n",
       "256982          NaN          NaN        COMPLETED        NaN          NaN   \n",
       "256983   06/30/2022      1:20:00        COMPLETED        NaN          NaN   \n",
       "256984   06/30/2022      2:01:00        COMPLETED        NaN          NaN   \n",
       "256985   06/30/2022     16:48:00        COMPLETED        NaN          NaN   \n",
       "\n",
       "        ...  transit_district vic_age_group                  vic_race vic_sex  \\\n",
       "0       ...               NaN         25-44            WHITE HISPANIC       M   \n",
       "1       ...               NaN         25-44                     BLACK       F   \n",
       "2       ...               NaN         45-64                     WHITE       M   \n",
       "3       ...               NaN         25-44            BLACK HISPANIC       F   \n",
       "4       ...               NaN         25-44  ASIAN / PACIFIC ISLANDER       M   \n",
       "...     ...               ...           ...                       ...     ...   \n",
       "256981  ...               NaN         18-24            WHITE HISPANIC       M   \n",
       "256982  ...               NaN         45-64                     WHITE       D   \n",
       "256983  ...               NaN         25-44  ASIAN / PACIFIC ISLANDER       F   \n",
       "256984  ...               NaN         45-64                     BLACK       F   \n",
       "256985  ...               NaN       UNKNOWN                   UNKNOWN       E   \n",
       "\n",
       "       x_coord_cd y_coord_cd   latitude  longitude  \\\n",
       "0          984685     209908  40.742827 -73.998428   \n",
       "1          994524     175697  40.648921 -73.962975   \n",
       "2          983316     202389  40.722189 -74.003369   \n",
       "3          932290     136346  40.540762 -74.186943   \n",
       "4          987295     190704  40.690115 -73.989019   \n",
       "...           ...        ...        ...        ...   \n",
       "256981    1004893     232927  40.805983 -73.925433   \n",
       "256982     988842     217034  40.762386 -73.983422   \n",
       "256983     988953     218015  40.765076 -73.983019   \n",
       "256984    1011144     236472  40.815698 -73.902837   \n",
       "256985     948733     170819  40.635466 -74.127964   \n",
       "\n",
       "                            lat_lon          new_georeferenced_column  \n",
       "0           (40.742827, -73.998428)      POINT (-73.998428 40.742827)  \n",
       "1           (40.648921, -73.962975)      POINT (-73.962975 40.648921)  \n",
       "2           (40.722189, -74.003369)      POINT (-74.003369 40.722189)  \n",
       "3           (40.540762, -74.186943)      POINT (-74.186943 40.540762)  \n",
       "4           (40.690115, -73.989019)      POINT (-73.989019 40.690115)  \n",
       "...                             ...                               ...  \n",
       "256981  (40.80598253, -73.92543346)  POINT (-73.92543346 40.80598253)  \n",
       "256982      (40.762386, -73.983422)      POINT (-73.983422 40.762386)  \n",
       "256983      (40.765076, -73.983019)      POINT (-73.983019 40.765076)  \n",
       "256984      (40.815698, -73.902837)      POINT (-73.902837 40.815698)  \n",
       "256985      (40.635466, -74.127964)      POINT (-74.127964 40.635466)  \n",
       "\n",
       "[256986 rows x 36 columns]>"
      ]
     },
     "execution_count": 9,
     "metadata": {},
     "output_type": "execute_result"
    }
   ],
   "source": [
    "df.head"
   ]
  },
  {
   "cell_type": "code",
   "execution_count": 11,
   "id": "0c374a7e",
   "metadata": {},
   "outputs": [
    {
     "data": {
      "text/plain": [
       "0"
      ]
     },
     "execution_count": 11,
     "metadata": {},
     "output_type": "execute_result"
    }
   ],
   "source": [
    "df.duplicated().sum()"
   ]
  },
  {
   "cell_type": "code",
   "execution_count": 12,
   "id": "2fde57d1",
   "metadata": {},
   "outputs": [],
   "source": [
    "df.to_csv('nypd_cleaned.csv', index=False)"
   ]
  },
  {
   "cell_type": "code",
   "execution_count": null,
   "id": "84d24e1b",
   "metadata": {},
   "outputs": [],
   "source": []
  }
 ],
 "metadata": {
  "kernelspec": {
   "display_name": "Python 3 (ipykernel)",
   "language": "python",
   "name": "python3"
  },
  "language_info": {
   "codemirror_mode": {
    "name": "ipython",
    "version": 3
   },
   "file_extension": ".py",
   "mimetype": "text/x-python",
   "name": "python",
   "nbconvert_exporter": "python",
   "pygments_lexer": "ipython3",
   "version": "3.10.9"
  }
 },
 "nbformat": 4,
 "nbformat_minor": 5
}

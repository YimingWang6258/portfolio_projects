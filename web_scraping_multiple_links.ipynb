{
 "cells": [
  {
   "cell_type": "code",
   "execution_count": 1,
   "id": "48a0752b",
   "metadata": {},
   "outputs": [],
   "source": [
    "import requests\n",
    "from bs4 import BeautifulSoup\n",
    "from selenium import webdriver\n",
    "from selenium.webdriver.common.by import By\n",
    "from selenium.webdriver.support.ui import WebDriverWait\n",
    "from selenium.webdriver.support import expected_conditions as EC\n",
    "import time\n",
    "import pandas as pd"
   ]
  },
  {
   "cell_type": "code",
   "execution_count": 4,
   "id": "d2921954",
   "metadata": {},
   "outputs": [],
   "source": [
    "url = \"https://example.com\"\n",
    "response = requests.get(url)\n",
    "soup = BeautifulSoup(response.content, 'html.parser')"
   ]
  },
  {
   "cell_type": "code",
   "execution_count": null,
   "id": "ec082985",
   "metadata": {
    "collapsed": true
   },
   "outputs": [],
   "source": [
    "soup"
   ]
  },
  {
   "cell_type": "code",
   "execution_count": null,
   "id": "1316eb9a",
   "metadata": {},
   "outputs": [],
   "source": [
    "title = soup.find_all(\"h1\")[0].text\n",
    "print(title)"
   ]
  },
  {
   "cell_type": "code",
   "execution_count": 14,
   "id": "8f90b666",
   "metadata": {},
   "outputs": [],
   "source": [
    "entry_content_div = soup.find(\"div\", class_=\"entry-content\")"
   ]
  },
  {
   "cell_type": "code",
   "execution_count": null,
   "id": "177b028e",
   "metadata": {
    "collapsed": true
   },
   "outputs": [],
   "source": [
    "p_tags = entry_content_div.find_all(\"p\")\n",
    "for p in p_tags:\n",
    "    print(p.text)"
   ]
  },
  {
   "cell_type": "code",
   "execution_count": 19,
   "id": "a1b6897a",
   "metadata": {},
   "outputs": [],
   "source": [
    "import requests\n",
    "from bs4 import BeautifulSoup\n",
    "\n",
    "# Specify the base URL of the website and the URL pattern of the individual pages\n",
    "base_url = 'https://example.com'\n",
    "url_pattern = 'https://pattern/{}'\n",
    "\n",
    "# Create a session to maintain cookies and headers between requests\n",
    "session = requests.Session()\n",
    "\n",
    "# Make a request to the base URL to establish the session\n",
    "response = session.get(base_url)\n",
    "\n",
    "# Parse the HTML content using BeautifulSoup\n",
    "soup = BeautifulSoup(response.content, 'html.parser')"
   ]
  },
  {
   "cell_type": "code",
   "execution_count": null,
   "id": "c3586495",
   "metadata": {
    "scrolled": true
   },
   "outputs": [],
   "source": [
    "soup"
   ]
  },
  {
   "cell_type": "code",
   "execution_count": null,
   "id": "2db09a57",
   "metadata": {},
   "outputs": [],
   "source": [
    "# Find the links to all the individual pages and extract their URLs\n",
    "links = soup.find_all('a', href=True)\n",
    "urls = [base_url + link['href'] for link in links[22:120]]\n",
    "urls"
   ]
  },
  {
   "cell_type": "code",
   "execution_count": 40,
   "id": "8cd41d91",
   "metadata": {},
   "outputs": [],
   "source": [
    "# Loop through the URLs and scrape their contents\n",
    "with open('file.txt', 'w') as file:\n",
    "    for url in urls:\n",
    "        response = session.get(url)\n",
    "        soup = BeautifulSoup(response.content, 'html.parser')\n",
    "\n",
    "        # Extract the title and contents of the and do something with them\n",
    "        title = soup.find('h1').text.strip()\n",
    "        content = soup.find('div', class_='entry-content').text.strip()\n",
    "\n",
    "        file.write(f'Title: {title}\\n')\n",
    "        file.write(f'Content: {content}\\n\\n')"
   ]
  },
  {
   "cell_type": "code",
   "execution_count": null,
   "id": "4b2b58ac",
   "metadata": {},
   "outputs": [],
   "source": []
  }
 ],
 "metadata": {
  "kernelspec": {
   "display_name": "Python 3 (ipykernel)",
   "language": "python",
   "name": "python3"
  },
  "language_info": {
   "codemirror_mode": {
    "name": "ipython",
    "version": 3
   },
   "file_extension": ".py",
   "mimetype": "text/x-python",
   "name": "python",
   "nbconvert_exporter": "python",
   "pygments_lexer": "ipython3",
   "version": "3.10.9"
  }
 },
 "nbformat": 4,
 "nbformat_minor": 5
}
